{
 "cells": [
  {
   "cell_type": "code",
   "execution_count": 4,
   "metadata": {
    "_kg_hide-input": true,
    "_kg_hide-output": true
   },
   "outputs": [
    {
     "name": "stdout",
     "output_type": "stream",
     "text": [
      "^C\n",
      "Note: you may need to restart the kernel to use updated packages.\n"
     ]
    }
   ],
   "source": [
    "pip install python-igraph\n"
   ]
  },
  {
   "cell_type": "code",
   "execution_count": null,
   "metadata": {
    "_kg_hide-input": true,
    "_kg_hide-output": true
   },
   "outputs": [],
   "source": [
    "pip install chart-studio"
   ]
  },
  {
   "cell_type": "code",
   "execution_count": 5,
   "metadata": {
    "_kg_hide-input": true
   },
   "outputs": [
    {
     "ename": "FileNotFoundError",
     "evalue": "[Errno 2] No such file or directory: '../input/marvel/MArvel commics.png'",
     "output_type": "error",
     "traceback": [
      "\u001b[1;31m---------------------------------------------------------------------------\u001b[0m",
      "\u001b[1;31mFileNotFoundError\u001b[0m                         Traceback (most recent call last)",
      "\u001b[1;32m<ipython-input-5-603da4a94e05>\u001b[0m in \u001b[0;36m<module>\u001b[1;34m\u001b[0m\n\u001b[0;32m     12\u001b[0m \u001b[1;33m\u001b[0m\u001b[0m\n\u001b[0;32m     13\u001b[0m \u001b[0mpath\u001b[0m\u001b[1;33m=\u001b[0m\u001b[1;33m(\u001b[0m\u001b[1;34m'../input/marvel/MArvel commics.png'\u001b[0m\u001b[1;33m)\u001b[0m\u001b[1;33m\u001b[0m\u001b[1;33m\u001b[0m\u001b[0m\n\u001b[1;32m---> 14\u001b[1;33m \u001b[0mdisplay\u001b[0m\u001b[1;33m(\u001b[0m\u001b[0mImage\u001b[0m\u001b[1;33m.\u001b[0m\u001b[0mopen\u001b[0m\u001b[1;33m(\u001b[0m\u001b[0mpath\u001b[0m\u001b[1;33m)\u001b[0m\u001b[1;33m)\u001b[0m\u001b[1;33m\u001b[0m\u001b[1;33m\u001b[0m\u001b[0m\n\u001b[0m",
      "\u001b[1;32mC:\\ProgramData\\Anaconda3\\lib\\site-packages\\PIL\\Image.py\u001b[0m in \u001b[0;36mopen\u001b[1;34m(fp, mode)\u001b[0m\n\u001b[0;32m   2807\u001b[0m \u001b[1;33m\u001b[0m\u001b[0m\n\u001b[0;32m   2808\u001b[0m     \u001b[1;32mif\u001b[0m \u001b[0mfilename\u001b[0m\u001b[1;33m:\u001b[0m\u001b[1;33m\u001b[0m\u001b[1;33m\u001b[0m\u001b[0m\n\u001b[1;32m-> 2809\u001b[1;33m         \u001b[0mfp\u001b[0m \u001b[1;33m=\u001b[0m \u001b[0mbuiltins\u001b[0m\u001b[1;33m.\u001b[0m\u001b[0mopen\u001b[0m\u001b[1;33m(\u001b[0m\u001b[0mfilename\u001b[0m\u001b[1;33m,\u001b[0m \u001b[1;34m\"rb\"\u001b[0m\u001b[1;33m)\u001b[0m\u001b[1;33m\u001b[0m\u001b[1;33m\u001b[0m\u001b[0m\n\u001b[0m\u001b[0;32m   2810\u001b[0m         \u001b[0mexclusive_fp\u001b[0m \u001b[1;33m=\u001b[0m \u001b[1;32mTrue\u001b[0m\u001b[1;33m\u001b[0m\u001b[1;33m\u001b[0m\u001b[0m\n\u001b[0;32m   2811\u001b[0m \u001b[1;33m\u001b[0m\u001b[0m\n",
      "\u001b[1;31mFileNotFoundError\u001b[0m: [Errno 2] No such file or directory: '../input/marvel/MArvel commics.png'"
     ]
    }
   ],
   "source": [
    "import chart_studio.plotly\n",
    "import plotly.graph_objs as go\n",
    "from chart_studio.plotly import plot, iplot\n",
    "import pandas as pd\n",
    "import numpy as np \n",
    "import matplotlib.pyplot as plt\n",
    "import networkx as nx\n",
    "%matplotlib inline \n",
    "from IPython.display import display\n",
    "from PIL import Image\n",
    "\n",
    "\n",
    "path=('../input/marvel/MArvel commics.png')\n",
    "display(Image.open(path))"
   ]
  },
  {
   "cell_type": "markdown",
   "metadata": {},
   "source": [
    "## We all know Marvel Universe and all the super Heros, but \"What if they exist\", and what \"if They have their own interaction\"...Sadly that will not happen .... But We can Speculate and Think about so many situations .. for example ***Who is the most Popular among them*** , ***Who do they Talk for a favor***, Who is the one ***that has help other the most***`, Here is where social network analysis comes in.. In this notebook you will find the answer of all these funny questions...."
   ]
  },
  {
   "cell_type": "code",
   "execution_count": 7,
   "metadata": {
    "_cell_guid": "b1076dfc-b9ad-4769-8c92-a6c4dae69d19",
    "_kg_hide-input": true,
    "_kg_hide-output": true,
    "_uuid": "8f2839f25d086af736a60e9eeb907d3b93b6e0e5"
   },
   "outputs": [],
   "source": [
    "e = pd.read_csv('data/edges.csv') # Edges\n",
    "h = pd.read_csv('data/hero-network.csv') # Hero\n",
    "n = pd.read_csv('data/nodes.csv') # Nodes"
   ]
  },
  {
   "cell_type": "markdown",
   "metadata": {},
   "source": [
    "## Dont worry about the Numbers.. you have to follow...\n",
    "Right here we have more than 57 thousand interactions , in other words when a super heroe find, help, fight, talk, etc to other superheroe.. this is our start point \n",
    "How does it Work? Well It is simple \n",
    "* Tony Stark: Did you know?\n",
    "* Steve Rogers: I didn't know it was him.\n",
    "* Tony Stark: Don't bullshit me, Rogers! Did you know?\n",
    "* Steve Rogers:Yes.\n",
    "* Tony : He killed My mom \n",
    "* Roger : Dont kill him **I LOVE HIM ** jajajaj \n",
    "\n",
    "When Tony talks to Steve  = Tony --->Roger\n",
    "when Roger Talks to Tony  =  Roger ---> Tony\n",
    "\n",
    "There We have an interaction Tony <---> Roger\n",
    "These concepts are so simple that and youtube video can explain it better than me ... \n",
    "So The next section show more than 57 K interaction that happened in the comic books"
   ]
  },
  {
   "cell_type": "code",
   "execution_count": 8,
   "metadata": {
    "_kg_hide-input": true,
    "_kg_hide-output": true
   },
   "outputs": [
    {
     "name": "stdout",
     "output_type": "stream",
     "text": [
      "<class 'pandas.core.frame.DataFrame'>\n",
      "RangeIndex: 574467 entries, 0 to 574466\n",
      "Data columns (total 2 columns):\n",
      " #   Column  Non-Null Count   Dtype \n",
      "---  ------  --------------   ----- \n",
      " 0   hero1   574467 non-null  object\n",
      " 1   hero2   574467 non-null  object\n",
      "dtypes: object(2)\n",
      "memory usage: 8.8+ MB\n"
     ]
    }
   ],
   "source": [
    "h.info()"
   ]
  },
  {
   "cell_type": "code",
   "execution_count": 9,
   "metadata": {
    "_kg_hide-input": true,
    "_kg_hide-output": true
   },
   "outputs": [
    {
     "data": {
      "text/plain": [
       "'Name: \\nType: Graph\\nNumber of nodes: 6426\\nNumber of edges: 167219\\nAverage degree:  52.0445'"
      ]
     },
     "execution_count": 9,
     "metadata": {},
     "output_type": "execute_result"
    }
   ],
   "source": [
    "he = nx.from_pandas_edgelist(h, source = \"hero1\", target = \"hero2\")\n",
    "nx.info(he)"
   ]
  },
  {
   "cell_type": "markdown",
   "metadata": {},
   "source": [
    "* # Degree Centrality \n",
    "\n",
    "> ## To have a better Comprenhension about the findings We have to talk about Degree Centrality \"**What the Hulk is that**\"\n",
    "let me give you an examplem\n",
    "\n",
    "* Let asume that you are in a party \" they are always full of people\" you might notice people tend to make small groups all arround the place, so which group is biggest and overall which group is the one in the center of everything (in the center of the group and the center of the party)\n",
    "\n",
    "* Same concept here , think of This super heroes \" how many times do they appeared in others comics and out of all those comics that have been published who was the one who appeared the most.\n",
    "\n",
    "When you find that specific Hero you will have found the Degree centrality or in other words the guy that has been in all the comics... in our case **the top 5** :\n",
    " \n",
    "1.  Spiderman\n",
    "2.  Iron Man\n",
    "3. Beast\n",
    "4. Hulk\n",
    "5. Cyclops"
   ]
  },
  {
   "cell_type": "code",
   "execution_count": null,
   "metadata": {
    "_kg_hide-input": true
   },
   "outputs": [],
   "source": [
    "#Degree Centrality \n",
    "MF = nx.degree_centrality(he)\n",
    "\n",
    "counter = 0\n",
    "for w in sorted(MF, key = MF.get , reverse = True):\n",
    "    counter = counter + 1\n",
    "    if counter == 10:\n",
    "        break\n",
    "    print(w,'{:0.2f}'.format(MF[w]))"
   ]
  },
  {
   "cell_type": "markdown",
   "metadata": {},
   "source": [
    "* # EigenVector \n",
    "\n",
    "> ## This is easier to understand \" This is about Which superheroe knows more superheroes\"\n",
    "\n",
    "* Who knows more super heroes .. DeadPool or Doctor Xavier? ... well obviously Doctor X Because He knows all the student and all the people in the word...... and many more justification.. \n",
    "\n",
    "* Think of this as \" How many superheroes appeared in the super Heroes X \" for example We have a commic \"Spider Man #3\" so How many superheroes apperead in this comic book and their role, did they fight , did they help , or ask for something\"\n",
    "\n",
    "**the top 5** of knowing more superheroes for (appeared, help, fight along , etc) are:\n",
    " \n",
    "1.  The beast\n",
    "2.  Angel \n",
    "3. Iron Man\n",
    "4. Scarlet Witch\n",
    "5. Captain America"
   ]
  },
  {
   "cell_type": "code",
   "execution_count": null,
   "metadata": {
    "_kg_hide-input": true
   },
   "outputs": [],
   "source": [
    "#EigenVector\n",
    "EV = nx.eigenvector_centrality(he)\n",
    "counter = 0\n",
    "for w in sorted(EV, key =EV.get,  reverse = True):\n",
    "    counter = counter + 1\n",
    "    if counter == 10:\n",
    "        break\n",
    "    print(w,\"{:0.4f}\".format(EV[w]))"
   ]
  },
  {
   "cell_type": "markdown",
   "metadata": {},
   "source": [
    "* # Betweeness_Centrality\n",
    "\n",
    "> ## This is **The Most important** .. who said that... well..  \"Mohammed Zuhair\" the guys who knoe everything about networks\n",
    "\n",
    "* This is the guy who know everyone and the one who can get what you need. let me make a asumption and a question:\n",
    "\n",
    "\n",
    "* Deadpool wanta to know Iron Man .. Which super hero will he need to talk to ? ... Doctor X, Wolvering, Storm?... Well the answer \"Doctor Strange\" Because they were togeher in Doctor strange comic #4 .. Deadpool talks to Dr. strange and Dr. Strange to Tony and << Bam , Boom>>.. Done Dotor Strange is the Man \n",
    "\n",
    "* But in Our case We have to consider so many super heroes and find the one who can talk to most of them .....Yeah you might get surprised \n",
    "\n",
    "\n",
    "*the top 5** friend that any super heroe should have arer (appeared, help, fight along , etc) are:\n",
    " \n",
    "1.  Spider Man\n",
    "2.  Hulk \n",
    "3. Cyclop\n",
    "4. Iceman\n",
    "5. Iron Man"
   ]
  },
  {
   "cell_type": "code",
   "execution_count": null,
   "metadata": {
    "_kg_hide-input": true
   },
   "outputs": [],
   "source": [
    "#Betweeness_Centrality\n",
    "BC = nx.betweenness_centrality(he)\n",
    "counter = 0\n",
    "for w in sorted(BC, key =BC.get,  reverse = True):\n",
    "    counter = counter + 1\n",
    "    if counter == 10:\n",
    "        break\n",
    "    print(w,\"{:0.4f}\".format(BC[w]))\n"
   ]
  },
  {
   "cell_type": "markdown",
   "metadata": {},
   "source": [
    "* # Network\n",
    "\n",
    "> ## Here We have the network representation... is not perfect yet.. Im goona keep working on that ...\n",
    "* The points in the center it is the Central degree \"the guy that has been in all the comics\"\n",
    "* The betweeness Centrality is hard to Find but I hope you enjoy the 3D Graph \n",
    "* There are more info that we can get from this data set so go a head and please vote this up and post so comments "
   ]
  },
  {
   "cell_type": "code",
   "execution_count": null,
   "metadata": {
    "_kg_hide-input": true,
    "_kg_hide-output": false
   },
   "outputs": [],
   "source": [
    "#h= h.iloc[np.r_[100:350, 500:800,1230:1900,2500:5600]]\n",
    "h= h.iloc[:10000,:2]\n",
    "he = nx.from_pandas_edgelist(h, source = \"hero1\", target = \"hero2\")\n",
    "print(nx.info(he))"
   ]
  },
  {
   "cell_type": "code",
   "execution_count": null,
   "metadata": {
    "_kg_hide-input": true,
    "_kg_hide-output": true
   },
   "outputs": [],
   "source": [
    "import igraph as ig\n",
    "\n",
    "#Numbers of Nodes\n",
    "N = he.number_of_nodes()\n",
    "\n",
    "#List of Edge\n",
    "L = he.number_of_edges()\n",
    "\n",
    "#Graph objects\n",
    "Edges_name = [e for e in he.edges()] #Edges Names\n",
    "\n",
    "Edges= nx.convert_node_labels_to_integers(he) #Mapping all Nodes into Numbers\n",
    "Edges = [e for e in Edges.edges()]\n",
    "\n",
    "#Graph\n",
    "G = ig.Graph(Edges, directed = False)\n",
    "\n",
    "# Geolocalization\n",
    "layt = G.layout('kk',dim = 3)  #3D Localization\n",
    "\n",
    "#Given X,y,z Position\n",
    "Xn=[layt[k][0] for k in range(N)]# x-coordinates of nodes\n",
    "Yn=[layt[k][1] for k in range(N)]# y-coordinates\n",
    "Zn=[layt[k][2] for k in range(N)]# z-coordinates\n",
    "\n",
    "Xe=[]\n",
    "Ye=[]\n",
    "Ze=[]\n",
    "\n",
    "#Grouping Coordinates\n",
    "for e in Edges:\n",
    "    Xe+=[layt[e[0]][0],layt[e[1]][0], None]# x-coordinates of edge ends\n",
    "    Ye+=[layt[e[0]][1],layt[e[1]][1], None]\n",
    "    Ze+=[layt[e[0]][2],layt[e[1]][2], None]\n",
    "    \n",
    "#Nodes Name \n",
    "labels = []\n",
    "group = []\n",
    "\n",
    "for i in range(len(Edges_name)):\n",
    "    value = Edges_name[i][0]\n",
    "    labels.append(value)\n",
    "    \n",
    "for i in range(len(Edges)):\n",
    "    value = Edges[i][0]\n",
    "    group.append(value)\n",
    "    \n",
    "group =[]\n",
    "group.extend(np.repeat(1,2000))\n",
    "group.extend(np.repeat(2,2000))\n",
    "group.extend(np.repeat(3,3000))\n",
    "group.extend(np.repeat(4,1000))\n",
    "group.extend(np.repeat(5,2000))\n",
    "\n",
    "trace1=go.Scatter3d(x=Xe,y=Ye,z=Ze,mode='lines',\n",
    "                    line=dict(color='rgb(125,125,125)', width=1),hoverinfo='none')\n",
    "\n",
    "trace2=go.Scatter3d(x=Xn,y=Yn,z=Zn,mode='markers',name='SuperHeroe',\n",
    "                    marker=dict(symbol='circle',size=4,color=group,colorscale='Viridis',line=dict(color='rgb(50,50,50)', width=0.5)),\n",
    "                    text=labels,hoverinfo='text')\n",
    "\n",
    "axis=dict(showbackground=False,showline=False,zeroline=False,\n",
    "          showgrid=False,showticklabels=False,title='')"
   ]
  },
  {
   "cell_type": "code",
   "execution_count": null,
   "metadata": {
    "_kg_hide-input": true
   },
   "outputs": [],
   "source": [
    "layout = go.Layout(\n",
    "         title=\"Network Of appaerance of Marvel<br> SuperHeroes (3D visualization)\",\n",
    "    autosize=True,\n",
    "         width=1000,\n",
    "         height=1000,\n",
    "         showlegend=False,\n",
    "         scene=dict(\n",
    "             xaxis=dict(axis),\n",
    "             yaxis=dict(axis),\n",
    "             zaxis=dict(axis),\n",
    "        ),\n",
    "     margin=dict(\n",
    "        t=100\n",
    "    ),\n",
    "    hovermode='closest',\n",
    "    annotations=[\n",
    "           dict(\n",
    "           showarrow=False,\n",
    "            text=\"Done by Msc. Marvin Garcia\",\n",
    "            xref='paper',\n",
    "            yref='paper',\n",
    "            x=0,\n",
    "            y=0.1,\n",
    "            xanchor='left',\n",
    "            yanchor='bottom',\n",
    "            font=dict(\n",
    "            size=14\n",
    "            )\n",
    "            )\n",
    "        ],    )\n",
    "\n",
    "data=[trace1, trace2]\n",
    "fig=go.Figure(data=data, layout=layout)\n",
    "fig.show()"
   ]
  },
  {
   "cell_type": "code",
   "execution_count": null,
   "metadata": {},
   "outputs": [],
   "source": []
  }
 ],
 "metadata": {
  "kernelspec": {
   "display_name": "Python 3",
   "language": "python",
   "name": "python3"
  },
  "language_info": {
   "codemirror_mode": {
    "name": "ipython",
    "version": 3
   },
   "file_extension": ".py",
   "mimetype": "text/x-python",
   "name": "python",
   "nbconvert_exporter": "python",
   "pygments_lexer": "ipython3",
   "version": "3.7.6"
  }
 },
 "nbformat": 4,
 "nbformat_minor": 4
}
