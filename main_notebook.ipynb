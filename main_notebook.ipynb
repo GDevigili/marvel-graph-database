{
 "cells": [
  {
   "source": [
    "<h1>Banco de Dados - A2</h1>\n",
    "<h3>Fundação Getúlio Vargas - Escola de Matemática Aplicada </br>\n",
    "Bacharelado em Ciência de Dados </br>\n",
    "Disciplina: Banco de Dados </br>\n",
    "Professor: Renato Rocha Souza</br>\n",
    "Alunos: Gianlucca Devigili e Maisa O. Fraiz</h3>"
   ],
   "cell_type": "markdown",
   "metadata": {}
  },
  {
   "cell_type": "code",
   "execution_count": 11,
   "metadata": {},
   "outputs": [],
   "source": [
    "import pandas as pd\n",
    "import networkx as nx\n",
    "import matplotlib.pyplot as plt\n",
    "import chart_studio.plotly\n",
    "import plotly.graph_objects as go \n",
    "from chart_studio.plotly import plot, iplot\n",
    "%matplotlib inline\n",
    "#from IPython.display import display\n",
    "#from PIL import Image"
   ]
  },
  {
   "source": [],
   "cell_type": "markdown",
   "metadata": {}
  },
  {
   "cell_type": "code",
   "execution_count": 14,
   "metadata": {},
   "outputs": [
    {
     "output_type": "execute_result",
     "data": {
      "text/plain": [
       "                   hero   comic\n",
       "0  24-HOUR MAN/EMMANUEL  AA2 35\n",
       "1  3-D MAN/CHARLES CHAN   AVF 4\n",
       "2  3-D MAN/CHARLES CHAN   AVF 5\n",
       "3  3-D MAN/CHARLES CHAN   COC 1\n",
       "4  3-D MAN/CHARLES CHAN  H2 251"
      ],
      "text/html": "<div>\n<style scoped>\n    .dataframe tbody tr th:only-of-type {\n        vertical-align: middle;\n    }\n\n    .dataframe tbody tr th {\n        vertical-align: top;\n    }\n\n    .dataframe thead th {\n        text-align: right;\n    }\n</style>\n<table border=\"1\" class=\"dataframe\">\n  <thead>\n    <tr style=\"text-align: right;\">\n      <th></th>\n      <th>hero</th>\n      <th>comic</th>\n    </tr>\n  </thead>\n  <tbody>\n    <tr>\n      <th>0</th>\n      <td>24-HOUR MAN/EMMANUEL</td>\n      <td>AA2 35</td>\n    </tr>\n    <tr>\n      <th>1</th>\n      <td>3-D MAN/CHARLES CHAN</td>\n      <td>AVF 4</td>\n    </tr>\n    <tr>\n      <th>2</th>\n      <td>3-D MAN/CHARLES CHAN</td>\n      <td>AVF 5</td>\n    </tr>\n    <tr>\n      <th>3</th>\n      <td>3-D MAN/CHARLES CHAN</td>\n      <td>COC 1</td>\n    </tr>\n    <tr>\n      <th>4</th>\n      <td>3-D MAN/CHARLES CHAN</td>\n      <td>H2 251</td>\n    </tr>\n  </tbody>\n</table>\n</div>"
     },
     "metadata": {},
     "execution_count": 14
    }
   ],
   "source": [
    "edges = pd.read_csv(\"data/edges.csv\", sep=',')\n",
    "edges.head()"
   ]
  },
  {
   "cell_type": "code",
   "execution_count": 15,
   "metadata": {},
   "outputs": [
    {
     "output_type": "execute_result",
     "data": {
      "text/plain": [
       "                   node   type\n",
       "0               2001 10  comic\n",
       "1                2001 8  comic\n",
       "2                2001 9  comic\n",
       "3  24-HOUR MAN/EMMANUEL   hero\n",
       "4  3-D MAN/CHARLES CHAN   hero"
      ],
      "text/html": "<div>\n<style scoped>\n    .dataframe tbody tr th:only-of-type {\n        vertical-align: middle;\n    }\n\n    .dataframe tbody tr th {\n        vertical-align: top;\n    }\n\n    .dataframe thead th {\n        text-align: right;\n    }\n</style>\n<table border=\"1\" class=\"dataframe\">\n  <thead>\n    <tr style=\"text-align: right;\">\n      <th></th>\n      <th>node</th>\n      <th>type</th>\n    </tr>\n  </thead>\n  <tbody>\n    <tr>\n      <th>0</th>\n      <td>2001 10</td>\n      <td>comic</td>\n    </tr>\n    <tr>\n      <th>1</th>\n      <td>2001 8</td>\n      <td>comic</td>\n    </tr>\n    <tr>\n      <th>2</th>\n      <td>2001 9</td>\n      <td>comic</td>\n    </tr>\n    <tr>\n      <th>3</th>\n      <td>24-HOUR MAN/EMMANUEL</td>\n      <td>hero</td>\n    </tr>\n    <tr>\n      <th>4</th>\n      <td>3-D MAN/CHARLES CHAN</td>\n      <td>hero</td>\n    </tr>\n  </tbody>\n</table>\n</div>"
     },
     "metadata": {},
     "execution_count": 15
    }
   ],
   "source": [
    "nodes = pd.read_csv(\"data/nodes.csv\", sep=',')\n",
    "nodes.head()"
   ]
  },
  {
   "cell_type": "code",
   "execution_count": 17,
   "metadata": {},
   "outputs": [
    {
     "output_type": "execute_result",
     "data": {
      "text/plain": [
       "                  hero1                 hero2\n",
       "0         LITTLE, ABNER        PRINCESS ZANDA\n",
       "1         LITTLE, ABNER  BLACK PANTHER/T'CHAL\n",
       "2  BLACK PANTHER/T'CHAL        PRINCESS ZANDA\n",
       "3         LITTLE, ABNER        PRINCESS ZANDA\n",
       "4         LITTLE, ABNER  BLACK PANTHER/T'CHAL"
      ],
      "text/html": "<div>\n<style scoped>\n    .dataframe tbody tr th:only-of-type {\n        vertical-align: middle;\n    }\n\n    .dataframe tbody tr th {\n        vertical-align: top;\n    }\n\n    .dataframe thead th {\n        text-align: right;\n    }\n</style>\n<table border=\"1\" class=\"dataframe\">\n  <thead>\n    <tr style=\"text-align: right;\">\n      <th></th>\n      <th>hero1</th>\n      <th>hero2</th>\n    </tr>\n  </thead>\n  <tbody>\n    <tr>\n      <th>0</th>\n      <td>LITTLE, ABNER</td>\n      <td>PRINCESS ZANDA</td>\n    </tr>\n    <tr>\n      <th>1</th>\n      <td>LITTLE, ABNER</td>\n      <td>BLACK PANTHER/T'CHAL</td>\n    </tr>\n    <tr>\n      <th>2</th>\n      <td>BLACK PANTHER/T'CHAL</td>\n      <td>PRINCESS ZANDA</td>\n    </tr>\n    <tr>\n      <th>3</th>\n      <td>LITTLE, ABNER</td>\n      <td>PRINCESS ZANDA</td>\n    </tr>\n    <tr>\n      <th>4</th>\n      <td>LITTLE, ABNER</td>\n      <td>BLACK PANTHER/T'CHAL</td>\n    </tr>\n  </tbody>\n</table>\n</div>"
     },
     "metadata": {},
     "execution_count": 17
    }
   ],
   "source": [
    "hero_network = pd.read_csv(\"data/hero-network.csv\", sep=',')\n",
    "hero_network.head()"
   ]
  },
  {
   "cell_type": "code",
   "execution_count": null,
   "metadata": {},
   "outputs": [],
   "source": []
  }
 ],
 "metadata": {
  "kernelspec": {
   "display_name": "Python 3",
   "language": "python",
   "name": "python3"
  },
  "language_info": {
   "codemirror_mode": {
    "name": "ipython",
    "version": 3
   },
   "file_extension": ".py",
   "mimetype": "text/x-python",
   "name": "python",
   "nbconvert_exporter": "python",
   "pygments_lexer": "ipython3",
   "version": "3.7.6-final"
  }
 },
 "nbformat": 4,
 "nbformat_minor": 4
}